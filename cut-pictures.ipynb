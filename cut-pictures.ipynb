{
 "cells": [
  {
   "cell_type": "code",
   "execution_count": null,
   "metadata": {},
   "outputs": [
    {
     "name": "stdout",
     "output_type": "stream",
     "text": [
      "Segmented and saved 1 objects. Saved in segmented_objects_precise.\n"
     ]
    }
   ],
   "source": [
    "import cv2\n",
    "import numpy as np\n",
    "import os\n",
    "\n",
    "# Load the image\n",
    "input_image_path = \"DATA_TEST/carrot.png\"\n",
    "\n",
    "image = cv2.imread(input_image_path)\n",
    "\n",
    "# Convert the image to grayscale\n",
    "gray = cv2.cvtColor(image, cv2.COLOR_BGR2GRAY)\n",
    "\n",
    "# Apply binary thresholding\n",
    "_, binary = cv2.threshold(gray, 128, 255, cv2.THRESH_BINARY_INV + cv2.THRESH_OTSU)\n",
    "\n",
    "# Use morphological operations to clean the image\n",
    "kernel = cv2.getStructuringElement(cv2.MORPH_RECT, (10, 10))\n",
    "morphed = cv2.morphologyEx(binary, cv2.MORPH_CLOSE, kernel)\n",
    "\n",
    "# Apply contours on the cleaned image\n",
    "contours, hierarchy = cv2.findContours(morphed, cv2.RETR_EXTERNAL, cv2.CHAIN_APPROX_SIMPLE)\n",
    "\n",
    "# Create an output directory for segmented objects\n",
    "output_dir = \"segmented_objects_precise\"\n",
    "os.makedirs(output_dir, exist_ok=True)\n",
    "\n",
    "# Set a minimum size threshold for filtering\n",
    "min_area = 3000  # Adjust this value based on your objects\n",
    "\n",
    "# Loop through contours and save only valid objects\n",
    "object_count = 0\n",
    "segmented_files = []\n",
    "for contour in contours:\n",
    "    # Filter by contour area\n",
    "    area = cv2.contourArea(contour)\n",
    "    if area >= min_area:\n",
    "        # Get bounding box coordinates\n",
    "        x, y, w, h = cv2.boundingRect(contour)\n",
    "        \n",
    "        # Extract the object with some padding\n",
    "        padding = 10  # Add padding to the bounding box\n",
    "        x1, y1 = max(0, x - padding), max(0, y - padding)\n",
    "        x2, y2 = min(image.shape[1], x + w + padding), min(image.shape[0], y + h + padding)\n",
    "        object_image = image[y1:y2, x1:x2]\n",
    "        \n",
    "        # Save the segmented object\n",
    "        object_path = os.path.join(output_dir, f\"object_{object_count}.png\")\n",
    "        cv2.imwrite(object_path, object_image)\n",
    "        segmented_files.append(object_path)\n",
    "        object_count += 1\n",
    "\n",
    "print(f\"Segmented and saved {object_count} objects. Saved in {output_dir}.\")\n"
   ]
  }
 ],
 "metadata": {
  "kernelspec": {
   "display_name": "datascience",
   "language": "python",
   "name": "python3"
  },
  "language_info": {
   "codemirror_mode": {
    "name": "ipython",
    "version": 3
   },
   "file_extension": ".py",
   "mimetype": "text/x-python",
   "name": "python",
   "nbconvert_exporter": "python",
   "pygments_lexer": "ipython3",
   "version": "3.12.3"
  }
 },
 "nbformat": 4,
 "nbformat_minor": 2
}
